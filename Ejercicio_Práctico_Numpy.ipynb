{
  "nbformat": 4,
  "nbformat_minor": 0,
  "metadata": {
    "colab": {
      "provenance": [],
      "include_colab_link": true
    },
    "kernelspec": {
      "name": "python3",
      "display_name": "Python 3"
    },
    "language_info": {
      "name": "python"
    }
  },
  "cells": [
    {
      "cell_type": "markdown",
      "metadata": {
        "id": "view-in-github",
        "colab_type": "text"
      },
      "source": [
        "<a href=\"https://colab.research.google.com/github/AstroMark11/caso_practico_en_numpy/blob/main/Ejercicio_Pr%C3%A1ctico_Numpy.ipynb\" target=\"_parent\"><img src=\"https://colab.research.google.com/assets/colab-badge.svg\" alt=\"Open In Colab\"/></a>"
      ]
    },
    {
      "cell_type": "markdown",
      "source": [
        "# Ejercicio Práctico"
      ],
      "metadata": {
        "id": "uI7_YNwXlMe1"
      }
    },
    {
      "cell_type": "code",
      "source": [
        "import numpy as np\n",
        "\n",
        "# Paso 1: Crear arrays con datos de ventas anuales\n",
        "anios = np.array(['2012', '2013', '2014', '2015', '2016', '2017',\n",
        "                  '2018', '2019', '2020', '2021', '2022', '2023'])\n",
        "producto_A = np.array([1500, 2300, 8250, 9300, 7220, 4210, 2180, 4190, 9230, 2840, 8280, 8300])\n",
        "producto_B = np.array([1880, 2310, 2430, 2850, 2370, 2060, 2940, 4250, 3270, 8290, 2310, 3330])\n",
        "producto_C = np.array([9200, 9220, 8240, 5260, 2280, 9300, 9320, 4340, 4360, 9380, 8400, 8420])"
      ],
      "metadata": {
        "id": "V7BX79gEobw8"
      },
      "execution_count": 1,
      "outputs": []
    },
    {
      "cell_type": "code",
      "source": [
        "# Paso 2: Transformaciones con NumPy\n",
        "# Estadísticas\n",
        "media_A = np.mean(producto_A)\n",
        "suma_A = np.sum(producto_A)\n",
        "media_B = np.mean(producto_B)\n",
        "suma_B = np.sum(producto_B)\n",
        "media_C = np.mean(producto_C)\n",
        "suma_C = np.sum(producto_C)\n",
        "\n",
        "print(f\"Media de ventas Producto A: {media_A}\")\n",
        "print(f\"Suma de ventas Producto A: {suma_A}\")\n",
        "print(f\"Media de ventas Producto B: {media_B}\")\n",
        "print(f\"Suma de ventas Producto B: {suma_B}\")\n",
        "print(f\"Media de ventas Producto C: {media_C}\")\n",
        "print(f\"Suma de ventas Producto C: {suma_C}\")"
      ],
      "metadata": {
        "colab": {
          "base_uri": "https://localhost:8080/"
        },
        "id": "kPa2kCyUD3Po",
        "outputId": "56592d3a-7d94-43b1-ed57-4ef1b4197070"
      },
      "execution_count": 2,
      "outputs": [
        {
          "output_type": "stream",
          "name": "stdout",
          "text": [
            "Media de ventas Producto A: 5650.0\n",
            "Suma de ventas Producto A: 67800\n",
            "Media de ventas Producto B: 3190.8333333333335\n",
            "Suma de ventas Producto B: 38290\n",
            "Media de ventas Producto C: 7310.0\n",
            "Suma de ventas Producto C: 87720\n"
          ]
        }
      ]
    },
    {
      "cell_type": "code",
      "source": [
        "# Paso 3: Análisis de datos\n",
        "# Calcular el total de ventas por año\n",
        "total_ventas_por_anio = producto_A + producto_B + producto_C\n",
        "\n",
        "# Calcular el promedio de ventas por producto\n",
        "promedio_ventas_productos = np.array([media_A, media_B, media_C])\n",
        "\n",
        "# Identificar el mes con mayor y menor ventas\n",
        "anio_mayor_ventas = anios[np.argmax(total_ventas_por_anio)]\n",
        "anio_menor_ventas = anios[np.argmin(total_ventas_por_anio)]\n",
        "\n",
        "print(\"Total de ventas por año:\", total_ventas_por_anio)\n",
        "print(\"Promedio de ventas por producto:\", promedio_ventas_productos)\n",
        "print(f\"Año con mayor ventas: {anio_mayor_ventas}\")\n",
        "print(f\"Año con menor ventas: {anio_menor_ventas}\")"
      ],
      "metadata": {
        "colab": {
          "base_uri": "https://localhost:8080/"
        },
        "id": "uPSYyWIMD7DJ",
        "outputId": "1172a767-027a-4aaf-e157-7b111ae3af82"
      },
      "execution_count": 4,
      "outputs": [
        {
          "output_type": "stream",
          "name": "stdout",
          "text": [
            "Total de ventas por año: [12580 13830 18920 17410 11870 15570 14440 12780 16860 20510 18990 20050]\n",
            "Promedio de ventas por producto: [5650.         3190.83333333 7310.        ]\n",
            "Año con mayor ventas: 2021\n",
            "Año con menor ventas: 2016\n"
          ]
        }
      ]
    },
    {
      "cell_type": "code",
      "source": [
        "# Paso 4: Operaciones con NumPy\n",
        "# Reshape y Transposición\n",
        "ventas_matrix = np.array([producto_A, producto_B, producto_C])\n",
        "ventas_reshaped = ventas_matrix.reshape(3, 4, 3)\n",
        "ventas_transposed = ventas_matrix.T\n",
        "\n",
        "print(\"Ventas Matrix:\\n\", ventas_matrix)\n",
        "print(\"Ventas Reshaped (3, 4, 3):\\n\", ventas_reshaped)\n",
        "print(\"Ventas Transposed:\\n\", ventas_transposed)\n",
        "\n",
        "# Invertir arrays y aplanar matrices\n",
        "ventas_inverted = ventas_matrix[:, ::-1]\n",
        "ventas_flattened = ventas_matrix.flatten()\n",
        "\n",
        "print(\"Ventas Invertidas:\\n\", ventas_inverted)\n",
        "print(\"Ventas Aplanadas:\\n\", ventas_flattened)"
      ],
      "metadata": {
        "colab": {
          "base_uri": "https://localhost:8080/"
        },
        "id": "gH1V6i3nD98H",
        "outputId": "b43094f6-3eba-4502-82c2-677ccbf121fc"
      },
      "execution_count": 5,
      "outputs": [
        {
          "output_type": "stream",
          "name": "stdout",
          "text": [
            "Ventas Matrix:\n",
            " [[1500 2300 8250 9300 7220 4210 2180 4190 9230 2840 8280 8300]\n",
            " [1880 2310 2430 2850 2370 2060 2940 4250 3270 8290 2310 3330]\n",
            " [9200 9220 8240 5260 2280 9300 9320 4340 4360 9380 8400 8420]]\n",
            "Ventas Reshaped (3, 4, 3):\n",
            " [[[1500 2300 8250]\n",
            "  [9300 7220 4210]\n",
            "  [2180 4190 9230]\n",
            "  [2840 8280 8300]]\n",
            "\n",
            " [[1880 2310 2430]\n",
            "  [2850 2370 2060]\n",
            "  [2940 4250 3270]\n",
            "  [8290 2310 3330]]\n",
            "\n",
            " [[9200 9220 8240]\n",
            "  [5260 2280 9300]\n",
            "  [9320 4340 4360]\n",
            "  [9380 8400 8420]]]\n",
            "Ventas Transposed:\n",
            " [[1500 1880 9200]\n",
            " [2300 2310 9220]\n",
            " [8250 2430 8240]\n",
            " [9300 2850 5260]\n",
            " [7220 2370 2280]\n",
            " [4210 2060 9300]\n",
            " [2180 2940 9320]\n",
            " [4190 4250 4340]\n",
            " [9230 3270 4360]\n",
            " [2840 8290 9380]\n",
            " [8280 2310 8400]\n",
            " [8300 3330 8420]]\n",
            "Ventas Invertidas:\n",
            " [[8300 8280 2840 9230 4190 2180 4210 7220 9300 8250 2300 1500]\n",
            " [3330 2310 8290 3270 4250 2940 2060 2370 2850 2430 2310 1880]\n",
            " [8420 8400 9380 4360 4340 9320 9300 2280 5260 8240 9220 9200]]\n",
            "Ventas Aplanadas:\n",
            " [1500 2300 8250 9300 7220 4210 2180 4190 9230 2840 8280 8300 1880 2310\n",
            " 2430 2850 2370 2060 2940 4250 3270 8290 2310 3330 9200 9220 8240 5260\n",
            " 2280 9300 9320 4340 4360 9380 8400 8420]\n"
          ]
        }
      ]
    },
    {
      "cell_type": "code",
      "source": [
        "# Paso 5: Análisis de elementos y sus conteos\n",
        "unique_ventas, counts_ventas = np.unique(ventas_flattened, return_counts=True)\n",
        "print(\"Elementos únicos en las ventas:\", unique_ventas)\n",
        "print(\"Conteos de elementos únicos en las ventas:\", counts_ventas)"
      ],
      "metadata": {
        "colab": {
          "base_uri": "https://localhost:8080/"
        },
        "id": "mdLfdri7EAbC",
        "outputId": "43614e68-d71e-4add-8e16-54020d54f3b5"
      },
      "execution_count": 6,
      "outputs": [
        {
          "output_type": "stream",
          "name": "stdout",
          "text": [
            "Elementos únicos en las ventas: [1500 1880 2060 2180 2280 2300 2310 2370 2430 2840 2850 2940 3270 3330\n",
            " 4190 4210 4250 4340 4360 5260 7220 8240 8250 8280 8290 8300 8400 8420\n",
            " 9200 9220 9230 9300 9320 9380]\n",
            "Conteos de elementos únicos en las ventas: [1 1 1 1 1 1 2 1 1 1 1 1 1 1 1 1 1 1 1 1 1 1 1 1 1 1 1 1 1 1 1 2 1 1]\n"
          ]
        }
      ]
    },
    {
      "cell_type": "code",
      "source": [
        "# Paso 6: Indexación y slicing\n",
        "# Seleccionar ventas de los primeros tres años\n",
        "ventas_tres_primeros_anios = ventas_matrix[:, :3]\n",
        "print(\"Ventas de los primeros tres años:\\n\", ventas_tres_primeros_anios)\n",
        "\n",
        "# Indexación booleana para seleccionar meses con ventas totales superiores a 12000\n",
        "anios_altas_ventas = anios[total_ventas_por_anio > 12000]\n",
        "ventas_altas = total_ventas_por_anio[total_ventas_por_anio > 12000]\n",
        "print(\"Anios con ventas totales superiores a 12000:\", anios_altas_ventas)\n",
        "print(\"Ventas totales superiores a 12000:\", ventas_altas)\n",
        "\n",
        "# Selección avanzada\n",
        "indices = [0, 2, 4, 6, 8, 10]\n",
        "ventas_indices_seleccionados = ventas_matrix[:, indices]\n",
        "print(\"Ventas en anios seleccionados:\\n\", ventas_indices_seleccionados)"
      ],
      "metadata": {
        "id": "uNyEtQ_iEDqo",
        "outputId": "ecc9ff93-323a-411a-9a8d-7ea5086d34af",
        "colab": {
          "base_uri": "https://localhost:8080/"
        }
      },
      "execution_count": 10,
      "outputs": [
        {
          "output_type": "stream",
          "name": "stdout",
          "text": [
            "Ventas de los primeros tres años:\n",
            " [[1500 2300 8250]\n",
            " [1880 2310 2430]\n",
            " [9200 9220 8240]]\n",
            "Anios con ventas totales superiores a 12000: ['2012' '2013' '2014' '2015' '2017' '2018' '2019' '2020' '2021' '2022'\n",
            " '2023']\n",
            "Ventas totales superiores a 12000: [12580 13830 18920 17410 15570 14440 12780 16860 20510 18990 20050]\n",
            "Ventas en anios seleccionados:\n",
            " [[1500 8250 7220 2180 9230 8280]\n",
            " [1880 2430 2370 2940 3270 2310]\n",
            " [9200 8240 2280 9320 4360 8400]]\n"
          ]
        }
      ]
    }
  ]
}